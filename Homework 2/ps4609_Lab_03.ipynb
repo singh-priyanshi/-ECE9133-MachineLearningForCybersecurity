{
  "cells": [
    {
      "cell_type": "markdown",
      "metadata": {
        "id": "view-in-github",
        "colab_type": "text"
      },
      "source": [
        "<a href=\"https://colab.research.google.com/github/singh-priyanshi/ECE9133-MachineLearningForCybersecurity/blob/main/ps4609_Lab_03.ipynb\" target=\"_parent\"><img src=\"https://colab.research.google.com/assets/colab-badge.svg\" alt=\"Open In Colab\"/></a>"
      ]
    },
    {
      "cell_type": "markdown",
      "metadata": {
        "id": "lahlilVxl2jI"
      },
      "source": [
        "# ML for Cybersecurity - Lab 03\n",
        "\n",
        "**Name:** Priyanshi Singh </br>\n",
        "**NETID:** ps4609"
      ]
    },
    {
      "cell_type": "markdown",
      "metadata": {
        "id": "G-eeA-viL3pg"
      },
      "source": [
        "## Packages"
      ]
    },
    {
      "cell_type": "code",
      "source": [
        "!pip install tensorflow"
      ],
      "metadata": {
        "colab": {
          "base_uri": "https://localhost:8080/"
        },
        "id": "R13OrWyTMTAQ",
        "outputId": "4ba07852-9d7b-42a9-9880-4db67418b5e1"
      },
      "execution_count": null,
      "outputs": [
        {
          "output_type": "stream",
          "name": "stdout",
          "text": [
            "Requirement already satisfied: tensorflow in /usr/local/lib/python3.10/dist-packages (2.14.0)\n",
            "Requirement already satisfied: absl-py>=1.0.0 in /usr/local/lib/python3.10/dist-packages (from tensorflow) (1.4.0)\n",
            "Requirement already satisfied: astunparse>=1.6.0 in /usr/local/lib/python3.10/dist-packages (from tensorflow) (1.6.3)\n",
            "Requirement already satisfied: flatbuffers>=23.5.26 in /usr/local/lib/python3.10/dist-packages (from tensorflow) (23.5.26)\n",
            "Requirement already satisfied: gast!=0.5.0,!=0.5.1,!=0.5.2,>=0.2.1 in /usr/local/lib/python3.10/dist-packages (from tensorflow) (0.5.4)\n",
            "Requirement already satisfied: google-pasta>=0.1.1 in /usr/local/lib/python3.10/dist-packages (from tensorflow) (0.2.0)\n",
            "Requirement already satisfied: h5py>=2.9.0 in /usr/local/lib/python3.10/dist-packages (from tensorflow) (3.9.0)\n",
            "Requirement already satisfied: libclang>=13.0.0 in /usr/local/lib/python3.10/dist-packages (from tensorflow) (16.0.6)\n",
            "Requirement already satisfied: ml-dtypes==0.2.0 in /usr/local/lib/python3.10/dist-packages (from tensorflow) (0.2.0)\n",
            "Requirement already satisfied: numpy>=1.23.5 in /usr/local/lib/python3.10/dist-packages (from tensorflow) (1.23.5)\n",
            "Requirement already satisfied: opt-einsum>=2.3.2 in /usr/local/lib/python3.10/dist-packages (from tensorflow) (3.3.0)\n",
            "Requirement already satisfied: packaging in /usr/local/lib/python3.10/dist-packages (from tensorflow) (23.2)\n",
            "Requirement already satisfied: protobuf!=4.21.0,!=4.21.1,!=4.21.2,!=4.21.3,!=4.21.4,!=4.21.5,<5.0.0dev,>=3.20.3 in /usr/local/lib/python3.10/dist-packages (from tensorflow) (3.20.3)\n",
            "Requirement already satisfied: setuptools in /usr/local/lib/python3.10/dist-packages (from tensorflow) (67.7.2)\n",
            "Requirement already satisfied: six>=1.12.0 in /usr/local/lib/python3.10/dist-packages (from tensorflow) (1.16.0)\n",
            "Requirement already satisfied: termcolor>=1.1.0 in /usr/local/lib/python3.10/dist-packages (from tensorflow) (2.3.0)\n",
            "Requirement already satisfied: typing-extensions>=3.6.6 in /usr/local/lib/python3.10/dist-packages (from tensorflow) (4.5.0)\n",
            "Requirement already satisfied: wrapt<1.15,>=1.11.0 in /usr/local/lib/python3.10/dist-packages (from tensorflow) (1.14.1)\n",
            "Requirement already satisfied: tensorflow-io-gcs-filesystem>=0.23.1 in /usr/local/lib/python3.10/dist-packages (from tensorflow) (0.34.0)\n",
            "Requirement already satisfied: grpcio<2.0,>=1.24.3 in /usr/local/lib/python3.10/dist-packages (from tensorflow) (1.59.2)\n",
            "Requirement already satisfied: tensorboard<2.15,>=2.14 in /usr/local/lib/python3.10/dist-packages (from tensorflow) (2.14.1)\n",
            "Requirement already satisfied: tensorflow-estimator<2.15,>=2.14.0 in /usr/local/lib/python3.10/dist-packages (from tensorflow) (2.14.0)\n",
            "Requirement already satisfied: keras<2.15,>=2.14.0 in /usr/local/lib/python3.10/dist-packages (from tensorflow) (2.14.0)\n",
            "Requirement already satisfied: wheel<1.0,>=0.23.0 in /usr/local/lib/python3.10/dist-packages (from astunparse>=1.6.0->tensorflow) (0.41.3)\n",
            "Requirement already satisfied: google-auth<3,>=1.6.3 in /usr/local/lib/python3.10/dist-packages (from tensorboard<2.15,>=2.14->tensorflow) (2.17.3)\n",
            "Requirement already satisfied: google-auth-oauthlib<1.1,>=0.5 in /usr/local/lib/python3.10/dist-packages (from tensorboard<2.15,>=2.14->tensorflow) (1.0.0)\n",
            "Requirement already satisfied: markdown>=2.6.8 in /usr/local/lib/python3.10/dist-packages (from tensorboard<2.15,>=2.14->tensorflow) (3.5.1)\n",
            "Requirement already satisfied: requests<3,>=2.21.0 in /usr/local/lib/python3.10/dist-packages (from tensorboard<2.15,>=2.14->tensorflow) (2.31.0)\n",
            "Requirement already satisfied: tensorboard-data-server<0.8.0,>=0.7.0 in /usr/local/lib/python3.10/dist-packages (from tensorboard<2.15,>=2.14->tensorflow) (0.7.2)\n",
            "Requirement already satisfied: werkzeug>=1.0.1 in /usr/local/lib/python3.10/dist-packages (from tensorboard<2.15,>=2.14->tensorflow) (3.0.1)\n",
            "Requirement already satisfied: cachetools<6.0,>=2.0.0 in /usr/local/lib/python3.10/dist-packages (from google-auth<3,>=1.6.3->tensorboard<2.15,>=2.14->tensorflow) (5.3.2)\n",
            "Requirement already satisfied: pyasn1-modules>=0.2.1 in /usr/local/lib/python3.10/dist-packages (from google-auth<3,>=1.6.3->tensorboard<2.15,>=2.14->tensorflow) (0.3.0)\n",
            "Requirement already satisfied: rsa<5,>=3.1.4 in /usr/local/lib/python3.10/dist-packages (from google-auth<3,>=1.6.3->tensorboard<2.15,>=2.14->tensorflow) (4.9)\n",
            "Requirement already satisfied: requests-oauthlib>=0.7.0 in /usr/local/lib/python3.10/dist-packages (from google-auth-oauthlib<1.1,>=0.5->tensorboard<2.15,>=2.14->tensorflow) (1.3.1)\n",
            "Requirement already satisfied: charset-normalizer<4,>=2 in /usr/local/lib/python3.10/dist-packages (from requests<3,>=2.21.0->tensorboard<2.15,>=2.14->tensorflow) (3.3.2)\n",
            "Requirement already satisfied: idna<4,>=2.5 in /usr/local/lib/python3.10/dist-packages (from requests<3,>=2.21.0->tensorboard<2.15,>=2.14->tensorflow) (3.4)\n",
            "Requirement already satisfied: urllib3<3,>=1.21.1 in /usr/local/lib/python3.10/dist-packages (from requests<3,>=2.21.0->tensorboard<2.15,>=2.14->tensorflow) (2.0.7)\n",
            "Requirement already satisfied: certifi>=2017.4.17 in /usr/local/lib/python3.10/dist-packages (from requests<3,>=2.21.0->tensorboard<2.15,>=2.14->tensorflow) (2023.7.22)\n",
            "Requirement already satisfied: MarkupSafe>=2.1.1 in /usr/local/lib/python3.10/dist-packages (from werkzeug>=1.0.1->tensorboard<2.15,>=2.14->tensorflow) (2.1.3)\n",
            "Requirement already satisfied: pyasn1<0.6.0,>=0.4.6 in /usr/local/lib/python3.10/dist-packages (from pyasn1-modules>=0.2.1->google-auth<3,>=1.6.3->tensorboard<2.15,>=2.14->tensorflow) (0.5.0)\n",
            "Requirement already satisfied: oauthlib>=3.0.0 in /usr/local/lib/python3.10/dist-packages (from requests-oauthlib>=0.7.0->google-auth-oauthlib<1.1,>=0.5->tensorboard<2.15,>=2.14->tensorflow) (3.2.2)\n"
          ]
        }
      ]
    },
    {
      "cell_type": "code",
      "source": [
        "import tensorflow as tf\n",
        "import matplotlib.pyplot as plt\n",
        "import numpy as np\n",
        "from sklearn.metrics import accuracy_score"
      ],
      "metadata": {
        "id": "9w6yHVgBN7RT"
      },
      "execution_count": null,
      "outputs": []
    },
    {
      "cell_type": "code",
      "source": [
        "# Load the MNIST dataset\n",
        "mnist = tf.keras.datasets.mnist\n",
        "(x_train, y_train), (x_test, y_test) = mnist.load_data()\n",
        "x_train[0][10]"
      ],
      "metadata": {
        "colab": {
          "base_uri": "https://localhost:8080/"
        },
        "id": "wzEThU-ZMyhr",
        "outputId": "24aa3470-3ccf-4fee-d24c-50fb85607b80"
      },
      "execution_count": null,
      "outputs": [
        {
          "output_type": "stream",
          "name": "stdout",
          "text": [
            "Downloading data from https://storage.googleapis.com/tensorflow/tf-keras-datasets/mnist.npz\n",
            "11490434/11490434 [==============================] - 0s 0us/step\n"
          ]
        },
        {
          "output_type": "execute_result",
          "data": {
            "text/plain": [
              "array([  0,   0,   0,   0,   0,   0,   0,   0,   0,  14,   1, 154, 253,\n",
              "        90,   0,   0,   0,   0,   0,   0,   0,   0,   0,   0,   0,   0,\n",
              "         0,   0], dtype=uint8)"
            ]
          },
          "metadata": {},
          "execution_count": 3
        }
      ]
    },
    {
      "cell_type": "code",
      "source": [
        "# Normalize the input image of the Dataset (Xtrain, Xtest)\n",
        "x_train, x_test = x_train / 255.0, x_test / 255.0"
      ],
      "metadata": {
        "id": "hhClI5NbNPvG"
      },
      "execution_count": null,
      "outputs": []
    },
    {
      "cell_type": "code",
      "source": [
        "# Print the shapes and types of the data\n",
        "print(\"Training data shape:\", x_train.shape)\n",
        "print(\"Testing data shape:\", x_test.shape)\n",
        "print(\"Data type of x_train:\", type(x_train))"
      ],
      "metadata": {
        "colab": {
          "base_uri": "https://localhost:8080/"
        },
        "id": "tvVHTO2vM1dD",
        "outputId": "c087e45e-85ed-48ca-c090-9a7ebd987bf9"
      },
      "execution_count": null,
      "outputs": [
        {
          "output_type": "stream",
          "name": "stdout",
          "text": [
            "Training data shape: (60000, 28, 28)\n",
            "Testing data shape: (10000, 28, 28)\n",
            "Data type of x_train: <class 'numpy.ndarray'>\n"
          ]
        }
      ]
    },
    {
      "cell_type": "code",
      "source": [
        "x_train[0][10] #image pixel now range from 0 to 1"
      ],
      "metadata": {
        "colab": {
          "base_uri": "https://localhost:8080/"
        },
        "id": "5PHvFWg5NmkE",
        "outputId": "6633e7bd-adf7-4fef-fd59-4ac5628a6c1e"
      },
      "execution_count": null,
      "outputs": [
        {
          "output_type": "execute_result",
          "data": {
            "text/plain": [
              "array([0.        , 0.        , 0.        , 0.        , 0.        ,\n",
              "       0.        , 0.        , 0.        , 0.        , 0.05490196,\n",
              "       0.00392157, 0.60392157, 0.99215686, 0.35294118, 0.        ,\n",
              "       0.        , 0.        , 0.        , 0.        , 0.        ,\n",
              "       0.        , 0.        , 0.        , 0.        , 0.        ,\n",
              "       0.        , 0.        , 0.        ])"
            ]
          },
          "metadata": {},
          "execution_count": 6
        }
      ]
    },
    {
      "cell_type": "code",
      "source": [
        "# Data visualization\n",
        "fig, axs = plt.subplots(3, 3, figsize=(10, 8))\n",
        "fig.suptitle(\"MNIST Samples\", fontsize=16)\n",
        "\n",
        "for ax in axs.ravel():\n",
        "    index = np.random.randint(x_train.shape[0])\n",
        "    img, label = x_train[index], y_train[index]\n",
        "    ax.imshow(img, cmap=\"gray\")\n",
        "    ax.set_title(\"True Label: {}\".format(label))\n",
        "    ax.axis('off')\n",
        "\n",
        "plt.show()"
      ],
      "metadata": {
        "colab": {
          "base_uri": "https://localhost:8080/",
          "height": 732
        },
        "id": "8ywhjjszM35A",
        "outputId": "836bfa35-4d30-4841-815e-c53b4e903231"
      },
      "execution_count": null,
      "outputs": [
        {
          "output_type": "display_data",
          "data": {
            "text/plain": [
              "<Figure size 1000x800 with 9 Axes>"
            ],
            "image/png": "[encoded data removed]"
          },
          "metadata": {}
        }
      ]
    },
    {
      "cell_type": "markdown",
      "source": [
        "# DNN"
      ],
      "metadata": {
        "id": "4caaQgz9OBDL"
      }
    },
    {
      "cell_type": "markdown",
      "source": [
        "Deep Neural Network Model (DNN) Architecture\n",
        "\n",
        "The structure comprises the following layers:\n",
        "\n",
        "Input Layer:\n",
        "\n",
        "Dimensions: (28, 28) - denoting the size of the input images.\n",
        "\n",
        "Flattened: Utilizing layers.Flatten to transform the 2D image into a 1D array, sized at 784.\n",
        "\n",
        "Hidden Layer:\n",
        "\n",
        "Dense Layer: layers.Dense(300, activation='relu'). Incorporating 300 neurons with the rectified linear unit (ReLU) activation function, a widely adopted non-linear activation. Dropout Layer:\n",
        "\n",
        "layers.Dropout(0.2). Introducing a dropout layer featuring a dropout rate of 0.2. This aids in averting overfitting by randomly zeroing a portion of input units during training. Output Layer:\n",
        "\n",
        "Dense Layer: layers.Dense(10, activation='softmax'). Comprising 10 neurons representing the output classes, utilizing the softmax activation function. Softmax is applied for multi-class classification, providing a probability distribution across the classes."
      ],
      "metadata": {
        "id": "g98BHFS4ODwV"
      }
    },
    {
      "cell_type": "markdown",
      "metadata": {
        "id": "_205_JGll-HC"
      },
      "source": [
        "## Simple deep learning model for MNIST digit classification"
      ]
    },
    {
      "cell_type": "code",
      "source": [
        "import tensorflow as tf\n",
        "\n",
        "# Define the Deep Neural Network (DNN) model\n",
        "def create_DNN_model():\n",
        "    model = tf.keras.models.Sequential([\n",
        "        tf.keras.layers.Flatten(input_shape=(28, 28)),\n",
        "        tf.keras.layers.Dense(350, activation='relu'),\n",
        "        tf.keras.layers.Dropout(0.2),\n",
        "        tf.keras.layers.Dense(10, activation='softmax')\n",
        "    ])\n",
        "    return model\n",
        "\n",
        "loss_fn = tf.keras.losses.sparse_categorical_crossentropy"
      ],
      "metadata": {
        "id": "j2FgExtVOkx8"
      },
      "execution_count": null,
      "outputs": []
    },
    {
      "cell_type": "markdown",
      "source": [
        "The optimization process utilizes the Adam optimizer to minimize the loss function, with a learning rate of 0.001 determining the optimization step size. For multi-class classification problems with integer labels, Sparse Categorical Crossentropy is employed as the chosen loss function. Evaluation and monitoring of the model's performance during both training and testing phases will rely on the 'accuracy' metric, which gauges the proportion of accurately classified samples."
      ],
      "metadata": {
        "id": "pGXp08IOO5Ej"
      }
    },
    {
      "cell_type": "code",
      "source": [
        "# Define the training process\n",
        "def train_DNN_model(model, x_train, y_train, epochs=5):\n",
        "   model.compile(optimizer=tf.keras.optimizers.Adam(learning_rate=0.001), loss='sparse_categorical_crossentropy', metrics=['accuracy'])\n",
        "   return model.fit(x_train, y_train, epochs=epochs)"
      ],
      "metadata": {
        "id": "mcyrE5jvORtd"
      },
      "execution_count": null,
      "outputs": []
    },
    {
      "cell_type": "code",
      "source": [
        "# Evaluate the model on the test data\n",
        "def evaluate_DNN_model(model, x_test, y_test):\n",
        "    res = model.evaluate(x_test, y_test, verbose=2)\n",
        "    return res"
      ],
      "metadata": {
        "id": "lnE001AxOVa5"
      },
      "execution_count": null,
      "outputs": []
    },
    {
      "cell_type": "code",
      "source": [
        "# Define a function to find correctly classified images\n",
        "def correct_classified_images(model, X, Y):\n",
        "    correct_classified_imgs = []\n",
        "    correct_classified_labels = []\n",
        "    count = 0\n",
        "\n",
        "    for i, img in enumerate(X):\n",
        "        img = img[np.newaxis, ...]\n",
        "        pred = model(img)\n",
        "        pred = tf.nn.softmax(pred)\n",
        "        pred = tf.math.argmax(pred, axis=1).numpy()\n",
        "        if pred == Y[i]:\n",
        "            count += 1\n",
        "            correct_classified_imgs.append(tf.convert_to_tensor(img, dtype=tf.float32))\n",
        "            correct_classified_labels.append(tf.convert_to_tensor(Y[i]))\n",
        "\n",
        "    return count, correct_classified_imgs, correct_classified_labels"
      ],
      "metadata": {
        "id": "OH9J_iPzOYYp"
      },
      "execution_count": null,
      "outputs": []
    },
    {
      "cell_type": "code",
      "source": [
        "# Load the MNIST dataset and preprocess it\n",
        "mnist = tf.keras.datasets.mnist\n",
        "(x_train, y_train), (x_test, y_test) = mnist.load_data()\n",
        "\n",
        "#normalized the data\n",
        "x_train, x_test = x_train / 255.0, x_test / 255.0\n",
        "\n",
        "# Create and train the DNN model\n",
        "DNN_model = create_DNN_model()\n",
        "history = train_DNN_model(DNN_model, x_train, y_train, epochs=5)\n",
        "\n",
        "print(\"Training Loss: \", history.history['loss'][-1])\n",
        "print(\"Training Accuracy: \", history.history['accuracy'][-1])\n"
      ],
      "metadata": {
        "colab": {
          "base_uri": "https://localhost:8080/"
        },
        "id": "DPHJW4GqObhw",
        "outputId": "f2ba39b0-d973-435c-d054-f96c98c0fad3"
      },
      "execution_count": null,
      "outputs": [
        {
          "output_type": "stream",
          "name": "stdout",
          "text": [
            "Epoch 1/5\n",
            "1875/1875 [==============================] - 20s 9ms/step - loss: 0.2357 - accuracy: 0.9294\n",
            "Epoch 2/5\n",
            "1875/1875 [==============================] - 14s 7ms/step - loss: 0.1027 - accuracy: 0.9685\n",
            "Epoch 3/5\n",
            "1875/1875 [==============================] - 14s 8ms/step - loss: 0.0759 - accuracy: 0.9762\n",
            "Epoch 4/5\n",
            "1875/1875 [==============================] - 14s 7ms/step - loss: 0.0595 - accuracy: 0.9815\n",
            "Epoch 5/5\n",
            "1875/1875 [==============================] - 13s 7ms/step - loss: 0.0486 - accuracy: 0.9843\n",
            "Training Loss:  0.04855285957455635\n",
            "Training Accuracy:  0.9842666387557983\n",
            "313/313 - 1s - loss: 0.0591 - accuracy: 0.9821 - 1s/epoch - 4ms/step\n",
            "313/313 [==============================] - 1s 4ms/step\n",
            "\n",
            "Test Loss of Model: 0.0591241754591465\n",
            "\n",
            "Test Accuracy of Model: 0.9821000099182129\n",
            "\n",
            "Number of Correctly Classified Images: 9821\n"
          ]
        }
      ]
    },
    {
      "cell_type": "code",
      "source": [
        "# Evaluate the model on the test data\n",
        "evaluation_result = evaluate_DNN_model(DNN_model, x_test, y_test)\n",
        "\n",
        "# Find correctly classified images and count\n",
        "ypred = DNN_model.predict(x_test).argmax(axis=1)\n",
        "\n",
        "count = len(np.where(ypred==y_test)[0])\n",
        "print(\"\\nTest Loss of Model:\", evaluation_result[0])\n",
        "print(\"\\nTest Accuracy of Model:\", evaluation_result[1])\n",
        "print(\"\\nNumber of Correctly Classified Images:\", count)"
      ],
      "metadata": {
        "colab": {
          "base_uri": "https://localhost:8080/"
        },
        "id": "GXDSZtIKyAbP",
        "outputId": "95676517-1981-4828-fde7-4ce800843e94"
      },
      "execution_count": null,
      "outputs": [
        {
          "output_type": "stream",
          "name": "stdout",
          "text": [
            "313/313 - 1s - loss: 0.0591 - accuracy: 0.9821 - 1s/epoch - 5ms/step\n",
            "313/313 [==============================] - 2s 5ms/step\n",
            "\n",
            "Test Loss of Model: 0.0591241754591465\n",
            "\n",
            "Test Accuracy of Model: 0.9821000099182129\n",
            "\n",
            "Number of Correctly Classified Images: 9821\n"
          ]
        }
      ]
    },
    {
      "cell_type": "markdown",
      "metadata": {
        "id": "xZOGv7aVmdSs"
      },
      "source": [
        "## FGSM based untargeted attack"
      ]
    },
    {
      "cell_type": "markdown",
      "source": [
        "Create perturbed images for a specified dataset using an untargeted adversarial attack.\n",
        "\n",
        "Input:\n",
        "- model: The targeted neural network model.\n",
        "- X: The test dataset.\n",
        "- Y: True labels for the test dataset.\n",
        "- eps: Magnitude of perturbation (epsilon) controlling the strength of the adversarial attack.\n",
        "\n",
        "Output:\n",
        "- perturbed_images: Images with small adversarial perturbations added to the originals.\n"
      ],
      "metadata": {
        "id": "KYst6j1_SGYA"
      }
    },
    {
      "cell_type": "code",
      "source": [
        "# Define functions for generating perturbations\n",
        "def generate_perturb_untarget_img(model, X, Y, eps):\n",
        "  X = tf.convert_to_tensor(X, dtype=tf.float32)\n",
        "\n",
        "  #observe the gradient on input\n",
        "  with tf.GradientTape() as tape:\n",
        "    tape.watch(X)\n",
        "    pred = model(X)\n",
        "    loss = loss_fn(Y, pred)\n",
        "\n",
        "  #calculate the gradient of loss w.r.t X(img)\n",
        "  grad = tape.gradient(loss, X)\n",
        "\n",
        "  #Sign of gradient\n",
        "  grad_sign = tf.sign(grad)\n",
        "\n",
        "  #Add adversarial (or noise) to image\n",
        "  x_perturb = X + eps * grad_sign\n",
        "\n",
        "  #clip any value outside the range\n",
        "  x_perturb = tf.clip_by_value((x_perturb), clip_value_min = 0, clip_value_max = 1)\n",
        "  return x_perturb"
      ],
      "metadata": {
        "id": "Hw7L2lm-ZRJL"
      },
      "execution_count": null,
      "outputs": []
    },
    {
      "cell_type": "code",
      "source": [
        "def calculate_accuracy_success_rate_untarget(model, perturbImg, X,  Y, correct_classified_index):\n",
        "\n",
        "    # Make predictions on the adversarial images, it returns softmax probability, highest probability index would be the label for the prediction\n",
        "    adversary_pred = model.predict(perturbImg).argmax(axis=1)\n",
        "\n",
        "    # Calculate accuracy of the model on the adversarial images\n",
        "    accuracy_untarget = accuracy_score(Y, adversary_pred)\n",
        "\n",
        "    # success rate would be all the test data which were previously correctly classified but missclassified after perturbation\n",
        "    incorrect_classify_count = len(np.where(adversary_pred[correct_classified_index] != Y[correct_classified_index])[0])\n",
        "    success_adversarial_untarget =  incorrect_classify_count / len(Y[correct_classified_index])\n",
        "\n",
        "    return accuracy_untarget, success_adversarial_untarget\n",
        "\n"
      ],
      "metadata": {
        "id": "wKVHDXqNZjdu"
      },
      "execution_count": null,
      "outputs": []
    },
    {
      "cell_type": "code",
      "source": [
        "# Define the list of epsilon values\n",
        "epsilons = [1/255, 10/255, 20/255, 30/255, 50/255, 70/255, 100/255, 125/255]\n",
        "\n",
        "# Lists to store accuracy and success attack rate\n",
        "acc_untarget_list = []\n",
        "success_untarget_attack_rate_list = []\n",
        "\n",
        "# # Calculate the number of correctly classified images and their labels\n",
        "\n",
        "print(\"Calculate Predictions for Test Data\")\n",
        "# Iterate through epsilon values\n",
        "ypred = DNN_model.predict(x_test).argmax(axis=1)\n",
        "\n",
        "#Finding Correctly Classified Indices\n",
        "correct_classified_index = np.where(ypred == y_test)\n",
        "\n",
        "for eps in epsilons:\n",
        "    print(\"Epsilon Value: \", eps)\n",
        "    # Generate perturbed untargeted images\n",
        "\n",
        "    x_perturb = generate_perturb_untarget_img(DNN_model, x_test, y_test, eps).numpy()\n",
        "\n",
        "    # Calculate accuracy and success rate of the model on the adversarial images\n",
        "    acc_untarget, success_untarget_attack_rate = calculate_accuracy_success_rate_untarget(DNN_model, x_perturb, x_test, y_test, correct_classified_index)\n",
        "\n",
        "    acc_untarget_list.append(acc_untarget)\n",
        "    success_untarget_attack_rate_list.append(success_untarget_attack_rate)\n"
      ],
      "metadata": {
        "colab": {
          "base_uri": "https://localhost:8080/"
        },
        "id": "OyQVeKk4bJRH",
        "outputId": "6d10fc32-722b-43eb-e65a-8758c0bb43fe"
      },
      "execution_count": null,
      "outputs": [
        {
          "output_type": "stream",
          "name": "stdout",
          "text": [
            "Calculate Predictions for Test Data\n",
            "313/313 [==============================] - 1s 3ms/step\n",
            "Epsilon Value:  0.00392156862745098\n",
            "313/313 [==============================] - 1s 3ms/step\n",
            "Epsilon Value:  0.0392156862745098\n",
            "313/313 [==============================] - 1s 3ms/step\n",
            "Epsilon Value:  0.0784313725490196\n",
            "313/313 [==============================] - 1s 3ms/step\n",
            "Epsilon Value:  0.11764705882352941\n",
            "313/313 [==============================] - 1s 3ms/step\n",
            "Epsilon Value:  0.19607843137254902\n",
            "313/313 [==============================] - 1s 4ms/step\n",
            "Epsilon Value:  0.27450980392156865\n",
            "313/313 [==============================] - 1s 4ms/step\n",
            "Epsilon Value:  0.39215686274509803\n",
            "313/313 [==============================] - 1s 3ms/step\n",
            "Epsilon Value:  0.49019607843137253\n",
            "313/313 [==============================] - 1s 3ms/step\n"
          ]
        }
      ]
    },
    {
      "cell_type": "code",
      "source": [
        "# Plot the results\n",
        "plt.plot(epsilons, acc_untarget_list, marker='x', color='green')\n",
        "plt.plot(epsilons, success_untarget_attack_rate_list, marker='*', color='red')\n",
        "plt.xlabel('epsilon')\n",
        "plt.ylabel('rate')\n",
        "plt.legend(['DNN accuracy', 'success untarget attack rate'])\n",
        "plt.title(\"Accuracy v/s success Rate\")\n",
        "\n",
        "print(\"\\nUntargeted Attack Results:\")\n",
        "for i, eps in enumerate(epsilons):\n",
        "    print(f\"Epsilon is: {eps}, Accuracy: {acc_untarget_list[i]}, Success Attack Rate is: {success_untarget_attack_rate_list[i]}\")\n"
      ],
      "metadata": {
        "colab": {
          "base_uri": "https://localhost:8080/",
          "height": 654
        },
        "id": "nkB2OzpMcZxR",
        "outputId": "54abd28d-bb7d-4ac2-b710-d3131df176cb"
      },
      "execution_count": null,
      "outputs": [
        {
          "output_type": "stream",
          "name": "stdout",
          "text": [
            "\n",
            "Untargeted Attack Results:\n",
            "Epsilon is: 0.00392156862745098, Accuracy: 0.9782, Success Attack Rate is: 0.003971082374503615\n",
            "Epsilon is: 0.0392156862745098, Accuracy: 0.8406, Success Attack Rate is: 0.1440790143569901\n",
            "Epsilon is: 0.0784313725490196, Accuracy: 0.4096, Success Attack Rate is: 0.5829345280521332\n",
            "Epsilon is: 0.11764705882352941, Accuracy: 0.152, Success Attack Rate is: 0.8452296100193463\n",
            "Epsilon is: 0.19607843137254902, Accuracy: 0.028, Success Attack Rate is: 0.9714896650035638\n",
            "Epsilon is: 0.27450980392156865, Accuracy: 0.0091, Success Attack Rate is: 0.9907341411261582\n",
            "Epsilon is: 0.39215686274509803, Accuracy: 0.0013, Success Attack Rate is: 0.9986763058751654\n",
            "Epsilon is: 0.49019607843137253, Accuracy: 0.0005, Success Attack Rate is: 0.9994908868750636\n"
          ]
        },
        {
          "output_type": "display_data",
          "data": {
            "text/plain": [
              "<Figure size 640x480 with 1 Axes>"
            ],
            "image/png": "[encoded data removed]"
          },
          "metadata": {}
        }
      ]
    },
    {
      "cell_type": "markdown",
      "metadata": {
        "id": "2m3gWgXqmi2L"
      },
      "source": [
        "## FGSM based targeted attack"
      ]
    },
    {
      "cell_type": "markdown",
      "source": [
        "Create perturbed images for a specified dataset using an targeted adversarial attack.\n",
        "\n",
        "Input:\n",
        "- model: The targeted neural network model.\n",
        "- X: The test dataset.\n",
        "- Y: True labels for the test dataset.\n",
        "- epsilon: Magnitude of perturbation (epsilon) controlling the strength of the adversarial attack.\n",
        "\n",
        "Output:\n",
        "- perturbed_images: Images with small adversarial perturbations added to the originals.\n",
        "\n"
      ],
      "metadata": {
        "id": "zRN4Bqp3T6AD"
      }
    },
    {
      "cell_type": "code",
      "source": [
        "# Define functions for generating targeted perturbations\n",
        "def generate_perturb_target_img(model, X, Y, epsilon):\n",
        "\n",
        "    #modify the label of input image\n",
        "    y_target = [(y + 1) % 10 for y in Y]\n",
        "\n",
        "    x_tensor = tf.convert_to_tensor(X, dtype=tf.float32)\n",
        "\n",
        "    #watch the gradient on Input image\n",
        "    with tf.GradientTape() as tape:\n",
        "        tape.watch(x_tensor)\n",
        "        pred = model(x_tensor)\n",
        "        loss = loss_fn(y_target, pred)\n",
        "\n",
        "    # calcualte teh gradient of loss wrt x_tensor\n",
        "    grad = tape.gradient(loss, x_tensor)\n",
        "\n",
        "    #get sign of gradient\n",
        "    grad_sign = tf.sign(grad)\n",
        "\n",
        "    #add negative of adversarial perturbation to image\n",
        "    x_perturb = x_tensor - epsilon * grad_sign\n",
        "    x_perturb = tf.clip_by_value((x_perturb), clip_value_min=0, clip_value_max=1)\n",
        "    return x_perturb"
      ],
      "metadata": {
        "id": "BMDA-sG1o45b"
      },
      "execution_count": null,
      "outputs": []
    },
    {
      "cell_type": "code",
      "source": [
        "def calculate_accuracy_success_rate_target(model, perturbImg, X, Y, correct_classified_index):\n",
        "    # Make predictions on the adversarial images\n",
        "    adversary_pred = model.predict(perturbImg).argmax(axis=1)\n",
        "\n",
        "    # Calculate accuracy of the model on the adversarial images\n",
        "    accuracy_target = accuracy_score(Y, adversary_pred)\n",
        "\n",
        "    # success rate would be all the test data which were previously correctly classified and even classified after perturbation\n",
        "    correctly_classified_count = len(np.where(adversary_pred[correct_classified_index] == (Y[correct_classified_index] + 1)%10)[0])\n",
        "    success_adversarial_target = correctly_classified_count / len(Y[correct_classified_index])\n",
        "\n",
        "    return accuracy_target, success_adversarial_target"
      ],
      "metadata": {
        "id": "Y_syPSmepF0u"
      },
      "execution_count": null,
      "outputs": []
    },
    {
      "cell_type": "code",
      "source": [
        "# Define the list of epsilon values\n",
        "epsilons = [1/255, 10/255, 20/255, 30/255, 50/255, 70/255, 100/255, 125/255]\n",
        "\n",
        "# Lists to store accuracy and success attack rate\n",
        "acc_target_list = []\n",
        "success_target_attack_rate_list = []\n",
        "\n",
        "# Calculate the number of correctly classified images and their labels\n",
        "\n",
        "print(\"Calculate Predictions for Test Data\")\n",
        "# Iterate through epsilon values\n",
        "ypred = DNN_model.predict(x_test).argmax(axis=1)\n",
        "\n",
        "#Finding Correctly Classified Indices\n",
        "correct_classified_index = np.where(ypred == y_test)\n",
        "\n",
        "for eps in epsilons:\n",
        "    print(\"Epsilon Value: \", eps)\n",
        "    # Generate perturbed untargeted images\n",
        "\n",
        "    x_perturb = generate_perturb_target_img(DNN_model, x_test, y_test, eps).numpy()\n",
        "\n",
        "    # Calculate accuracy and success rate of the model on the adversarial images\n",
        "    acc_target, success_target_attack_rate = calculate_accuracy_success_rate_target(DNN_model, x_perturb, x_test, y_test, correct_classified_index)\n",
        "\n",
        "    acc_target_list.append(acc_target)\n",
        "    success_target_attack_rate_list.append(success_target_attack_rate)\n"
      ],
      "metadata": {
        "colab": {
          "base_uri": "https://localhost:8080/"
        },
        "id": "M3hDZsIHrBgX",
        "outputId": "2229bf61-708d-4e0d-adfb-c30e4bcf2a45"
      },
      "execution_count": null,
      "outputs": [
        {
          "output_type": "stream",
          "name": "stdout",
          "text": [
            "Calculate Predictions for Test Data\n",
            "313/313 [==============================] - 2s 7ms/step\n",
            "Epsilon Value:  0.00392156862745098\n",
            "313/313 [==============================] - 1s 3ms/step\n",
            "Epsilon Value:  0.0392156862745098\n",
            "313/313 [==============================] - 1s 3ms/step\n",
            "Epsilon Value:  0.0784313725490196\n",
            "313/313 [==============================] - 1s 3ms/step\n",
            "Epsilon Value:  0.11764705882352941\n",
            "313/313 [==============================] - 1s 3ms/step\n",
            "Epsilon Value:  0.19607843137254902\n",
            "313/313 [==============================] - 1s 3ms/step\n",
            "Epsilon Value:  0.27450980392156865\n",
            "313/313 [==============================] - 1s 3ms/step\n",
            "Epsilon Value:  0.39215686274509803\n",
            "313/313 [==============================] - 1s 4ms/step\n",
            "Epsilon Value:  0.49019607843137253\n",
            "313/313 [==============================] - 1s 3ms/step\n"
          ]
        }
      ]
    },
    {
      "cell_type": "code",
      "source": [
        "# Plot the results for targeted attack\n",
        "plt.plot(epsilons, acc_target_list, marker='x', color='green')\n",
        "plt.plot(epsilons, success_target_attack_rate_list, marker='*', color='red')\n",
        "plt.xlabel('epsilon')\n",
        "plt.ylabel('rate')\n",
        "plt.legend(['DNN accuracy', 'success target attack rate'])\n",
        "plt.title(\"Targeted Attack\")\n",
        "\n",
        "print(\"Targeted Attack Results:\")\n",
        "for i, eps in enumerate(epsilons):\n",
        "    print(f\"Epsilon is: {eps}, Accuracy: {acc_target_list[i]}, Success Attack Rate is: {success_target_attack_rate_list[i]}\")\n"
      ],
      "metadata": {
        "colab": {
          "base_uri": "https://localhost:8080/",
          "height": 636
        },
        "id": "mBqOKCa-rduj",
        "outputId": "d12e0c82-7e58-49c5-982a-196a1fb5b266"
      },
      "execution_count": null,
      "outputs": [
        {
          "output_type": "stream",
          "name": "stdout",
          "text": [
            "Targeted Attack Results:\n",
            "Epsilon is: 0.00392156862745098, Accuracy: 0.9813, Success Attack Rate is: 0.000610935749923633\n",
            "Epsilon is: 0.0392156862745098, Accuracy: 0.943, Success Attack Rate is: 0.01690255574788718\n",
            "Epsilon is: 0.0784313725490196, Accuracy: 0.6644, Success Attack Rate is: 0.19549943997556257\n",
            "Epsilon is: 0.11764705882352941, Accuracy: 0.3492, Success Attack Rate is: 0.391304347826087\n",
            "Epsilon is: 0.19607843137254902, Accuracy: 0.057, Success Attack Rate is: 0.6334385500458202\n",
            "Epsilon is: 0.27450980392156865, Accuracy: 0.0056, Success Attack Rate is: 0.7179513287852561\n",
            "Epsilon is: 0.39215686274509803, Accuracy: 0.0002, Success Attack Rate is: 0.7102128092862234\n",
            "Epsilon is: 0.49019607843137253, Accuracy: 0.0003, Success Attack Rate is: 0.6560431727929946\n"
          ]
        },
        {
          "output_type": "display_data",
          "data": {
            "text/plain": [
              "<Figure size 640x480 with 1 Axes>"
            ],
            "image/png": "[encoded data removed]"
          },
          "metadata": {}
        }
      ]
    },
    {
      "cell_type": "markdown",
      "metadata": {
        "id": "Y1HR9zMEdcvD"
      },
      "source": [
        "## Adversarial Retraining against Untargeted FGSM Attack"
      ]
    },
    {
      "cell_type": "code",
      "source": [
        "# Generate perturbed untargeted images and retrain the model\n",
        "epsilon = 125/255\n",
        "\n",
        "#generate the perturb images for train data\n",
        "x_perturb_train = generate_perturb_untarget_img(DNN_model, x_train, y_train, epsilon)\n",
        "x_perturb_test = generate_perturb_untarget_img(DNN_model, x_test, y_test, epsilon)\n",
        "\n",
        "\n",
        "#add data to train dataset\n",
        "y_retrain = np.hstack((y_train, y_train))\n",
        "x_retrain = np.vstack((x_train, x_perturb_train))\n",
        "\n",
        "history = DNN_model.fit(x_retrain, y_retrain, epochs=5)\n",
        "\n",
        "print(\"\\nTraining accuracy for Retrained model\", history.history['accuracy'][-1])\n",
        "print(\"\\nTraining Loss for Retrained model\", history.history['loss'][-1])\n",
        "print(\"\\nEvaluate the retrained model on the test data\")\n",
        "# Evaluate the retrained model on the test data\n",
        "res_retrain = DNN_model.evaluate(x_test, y_test, verbose=2)\n",
        "\n",
        "print(\"Test Loss for Retrained Model\", res_retrain[0])\n",
        "print(\"Test Accuracy for Retrained Model\", res_retrain[1])\n"
      ],
      "metadata": {
        "colab": {
          "base_uri": "https://localhost:8080/"
        },
        "id": "BPfQWZfaBMp5",
        "outputId": "7834dceb-aab5-43df-825a-944f2eb74675"
      },
      "execution_count": null,
      "outputs": [
        {
          "output_type": "stream",
          "name": "stdout",
          "text": [
            "Epoch 1/5\n",
            "3750/3750 [==============================] - 34s 9ms/step - loss: 0.1401 - accuracy: 0.9596\n",
            "Epoch 2/5\n",
            "3750/3750 [==============================] - 28s 8ms/step - loss: 0.0383 - accuracy: 0.9876\n",
            "Epoch 3/5\n",
            "3750/3750 [==============================] - 33s 9ms/step - loss: 0.0295 - accuracy: 0.9904\n",
            "Epoch 4/5\n",
            "3750/3750 [==============================] - 38s 10ms/step - loss: 0.0246 - accuracy: 0.9919\n",
            "Epoch 5/5\n",
            "3750/3750 [==============================] - 27s 7ms/step - loss: 0.0218 - accuracy: 0.9929\n",
            "Training accuracy for Retrained model 0.9928666949272156\n",
            "Training Loss for Retrained model 0.021772418171167374\n",
            "\n",
            "Evaluate the retrained model on the test data\n",
            "313/313 - 2s - loss: 0.0729 - accuracy: 0.9801 - 2s/epoch - 5ms/step\n",
            "Test Loss for Retrained Model 0.07294577360153198\n",
            "Test Accuracy for Retrained Model 0.9800999760627747\n"
          ]
        }
      ]
    },
    {
      "cell_type": "markdown",
      "source": [
        "### Robustness of adversarially trained DNN model against adversarial perturbations"
      ],
      "metadata": {
        "id": "c-zZpOeNtrvm"
      }
    },
    {
      "cell_type": "code",
      "source": [
        "#get the predictions for test images\n",
        "ypred = DNN_model.predict(x_test, verbose=False).argmax(axis=1)\n",
        "correct_classified_index = np.where(ypred == y_test)\n",
        "\n",
        "#epsilon\n",
        "eps = 125/255\n",
        "\n",
        "#generate the adversarial perturb images using the retrained model\n",
        "adversary_images = generate_perturb_untarget_img(DNN_model, x_test, y_test, eps)\n",
        "\n",
        "#get the prediction\n",
        "adversary_pred = DNN_model.predict(adversary_images, verbose=False).argmax(axis=1)\n",
        "\n",
        "#get the accuracy of the model against the perturb imabes generated using the retrained model\n",
        "print(f\"Accuracy:  {accuracy_score(y_test, adversary_pred)}\")\n",
        "\n",
        "#success rate is calculated by checking total number of samples missclassified which were corrctly classfied earlier.\n",
        "wrongly_classified_count = len(np.where(adversary_pred[correct_classified_index] != y_test[correct_classified_index])[0])\n",
        "\n",
        "print(f\"Success Rate: {wrongly_classified_count/len(y_test[correct_classified_index])}\")\n"
      ],
      "metadata": {
        "colab": {
          "base_uri": "https://localhost:8080/"
        },
        "id": "hJzlGFSXt7SH",
        "outputId": "f262e6e6-5e75-434d-9994-aab76c1fc59d"
      },
      "execution_count": null,
      "outputs": [
        {
          "output_type": "stream",
          "name": "stdout",
          "text": [
            "Accuracy:  0.3605\n",
            "Success Rate: 0.6332006938067544\n"
          ]
        }
      ]
    },
    {
      "cell_type": "markdown",
      "source": [
        "In our analysis, we observe a decrease in model accuracy when generating images from the retrained model, as anticipated. Given that the model weights have been modified through retraining, it follows that the perturbed images would be affected as well. Despite this, the accuracy of the retrained model remains superior to that of the previous model."
      ],
      "metadata": {
        "id": "r8uzRo__1Sl1"
      }
    },
    {
      "cell_type": "code",
      "source": [
        "#get the prediction on perturb images generated from model trained before retraining\n",
        "\n",
        "adversary_pred = DNN_model.predict(x_perturb_test, verbose=False).argmax(axis=1)\n",
        "print(f\"Accuracy:  {accuracy_score(y_test, adversary_pred)}\")\n",
        "\n",
        "#success rate is calculated by checking total number of samples missclassified which were corrctly classfied earlier.\n",
        "wrongly_classified_count = len(np.where(adversary_pred[correct_classified_index] != y_test[correct_classified_index])[0])\n",
        "print(f\"Success Rate: {wrongly_classified_count/len(y_test[correct_classified_index])}\")\n",
        "\n",
        "\n"
      ],
      "metadata": {
        "colab": {
          "base_uri": "https://localhost:8080/"
        },
        "id": "oPoKweT3uQdl",
        "outputId": "bd9a6adb-6c86-41f6-f885-924229e61ef5"
      },
      "execution_count": null,
      "outputs": [
        {
          "output_type": "stream",
          "name": "stdout",
          "text": [
            "Accuracy:  0.9993\n",
            "Success Rate: 0.0007142128354249566\n"
          ]
        }
      ]
    },
    {
      "cell_type": "markdown",
      "source": [
        "In our observations, the model demonstrates significantly improved accuracy on perturbed test data, coupled with a notably low adversarial success rate. This suggests that our model exhibits high robustness against adversarial perturbations following the fine-tuning process."
      ],
      "metadata": {
        "id": "JmQ7g6Us1JDp"
      }
    },
    {
      "cell_type": "code",
      "source": [],
      "metadata": {
        "id": "wnrnI8RTu44t"
      },
      "execution_count": null,
      "outputs": []
    }
  ],
  "metadata": {
    "colab": {
      "provenance": [],
      "include_colab_link": true
    },
    "kernelspec": {
      "display_name": "Python 3",
      "language": "python",
      "name": "python3"
    },
    "language_info": {
      "codemirror_mode": {
        "name": "ipython",
        "version": 3
      },
      "file_extension": ".py",
      "mimetype": "text/x-python",
      "name": "python",
      "nbconvert_exporter": "python",
      "pygments_lexer": "ipython3",
      "version": "3.9.1"
    }
  },
  "nbformat": 4,
  "nbformat_minor": 0
}
